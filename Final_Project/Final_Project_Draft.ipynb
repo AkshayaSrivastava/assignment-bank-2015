{
 "cells": [
  {
   "cell_type": "markdown",
   "metadata": {},
   "source": [
    "# Telegrapher's Equations\n",
    "## Derivation\n",
    "When creating a transmission line model in electrical engineering, it is helpful to assume that that the cable is inmperfectly insulated, as no two conductors can be perfectly insulated due to the current flow between them. That leads to two assumptions:\n",
    "* Capacitance (C) is relevant\n",
    "* Current Leakage (Conductance, G) is relevant\n",
    "\n",
    "The wire itself will also imply some: \n",
    "* Resistance (R) in the wire\n",
    "* Inductance (L) in the wire\n",
    "    \n",
    "From these assertions, the wire can be modeled as follows:\n",
    "\n",
    "![Source: https://en.wikipedia.org/wiki/Telegrapher%27s_equations](https://en.wikipedia.org/wiki/Telegrapher%27s_equations#/media/File:Transmission_line_element.svg)\n",
    "\n",
    "![Source: https://en.wikipedia.org/wiki/Telegrapher%27s_equations]<img src=https://en.wikipedia.org/wiki/Telegrapher%27s_equations#/media/File:Transmission_line_element.svg>\n",
    "\n",
    "From these Equations, the following model arises:\n",
    "$$\\frac{\\partial^{2}\\gamma}{\\partial x^{2}} = LC\\frac{\\partial^{2}\\gamma}{\\partial t^{2}} + (RC+GL)\\frac{\\partial\\gamma}{\\partial t} + RG\\gamma \\tag{1}$$ \n",
    "\n",
    "where $\\gamma \\implies i(x,t), v(x,t)$ with $i(x,t)$ and $v(x,t)$ being the functions or the current and voltage, respectively. A more in-depth derivation can be found [here](http://rfdz.ph-noe.ac.at/fileadmin/Mathematik_Uploads/ACDCA/TIME2008/TIME08_contribs/Lock/Lock.pdf).\n",
    "\n",
    "For lossless transmission, we can say that the losses due to an current leakage and internal resistance go to zero. That is: \n",
    "* $ R \\rightarrow 0$\n",
    "* $ G \\rightarrow 0$\n",
    "\n",
    "This simplifies Equation 1 to: $$\\frac{\\partial^{2}\\gamma}{\\partial x^{2}} = LC\\frac{\\partial^{2}\\gamma}{\\partial t^{2}}\\tag{2}$$\n",
    "\n",
    "which then breaks down into the following two equations for voltage and current, respectively:\n",
    "$$\\begin{gather}\n",
    "\\frac{\\partial^{2}}{\\partial x^{2}}\\left[v(x,t)\\right] = LC\\frac{\\partial^{2}}{\\partial t^{2}}\\left[v(x,t)\\right]\\tag{3}\\\\\n",
    "\\frac{\\partial^{2}}{\\partial x^{2}}\\left[i(x,t)\\right] = LC\\frac{\\partial^{2}}{\\partial t^{2}}\\left[i(x,t)\\right]\\tag{4}\n",
    "\\end{gather}$$\n",
    "\n",
    "## Boundary Conditions\n",
    "When inspecting Equations 3 and 4, the question arises: why should we expect different results for the the current and voltage? The answer lies in the boundary conditions!\n",
    "\n",
    "### Voltage - $v(x,t)$\n",
    "Voltage boundary conditions will be Dirichlet conditions, in that both ends of our wire segment will have a fixed voltage potential. It will be this potential that drives the current in a single direction (though our discretization will allow an omni-directional current - more on that soon). For our purposes, we will say that our wire segment is grounded at both ends. That is: $$v(0,t) = v(L,t) = 0$$ over domain/wire-segment-length $L$.\n",
    "\n",
    "We will also need two intial conditions, one of which will be Dirichlet and the other will be Neumann. For our cases, since the voltage is fixed, it won't change in time, so the Neumann condition implies: $$\\frac{\\partial}{\\partial t}[v(x,t)] = 0$$\n",
    "\n",
    "The Dirichlet condition is tricker, as we can actual send a voltage pulse through the system and see how it responds, a voltage signal of sorts. This is the signal that will drive the voltage changes, so it doesn't make sense to have a zero-Dirichlet condition here - there'll be nothing to see in the system! Let's say that $v(x,0)=\\alpha$, where $\\alpha \\neq 0$. Now we can explore how different spikes in initial voltage propogate in the system.\n",
    "\n",
    "Discussion based upon [this source][vol-bc].\n",
    "\n",
    "### Current - $i(x,t)$\n"
   ]
  },
  {
   "cell_type": "code",
   "execution_count": null,
   "metadata": {
    "collapsed": true
   },
   "outputs": [],
   "source": []
  },
  {
   "cell_type": "markdown",
   "metadata": {},
   "source": [
    "[vol-bc]:http://www.math.ubc.ca/~feldman/math/telegrph.pdf\n",
    "[wiki]:https://en.wikipedia.org/wiki/Telegrapher%27s_equations"
   ]
  },
  {
   "cell_type": "code",
   "execution_count": null,
   "metadata": {
    "collapsed": true
   },
   "outputs": [],
   "source": [
    "# Loads CSS used in class for conformity with Class Notes\n",
    "from IPython.core.display import HTML\n",
    "css_file = '../../styles/numericalmoocstyle.css'\n",
    "HTML(open(css_file, \"r\").read())"
   ]
  }
 ],
 "metadata": {
  "kernelspec": {
   "display_name": "Python 3",
   "language": "python",
   "name": "python3"
  },
  "language_info": {
   "codemirror_mode": {
    "name": "ipython",
    "version": 3
   },
   "file_extension": ".py",
   "mimetype": "text/x-python",
   "name": "python",
   "nbconvert_exporter": "python",
   "pygments_lexer": "ipython3",
   "version": "3.4.3"
  }
 },
 "nbformat": 4,
 "nbformat_minor": 0
}
