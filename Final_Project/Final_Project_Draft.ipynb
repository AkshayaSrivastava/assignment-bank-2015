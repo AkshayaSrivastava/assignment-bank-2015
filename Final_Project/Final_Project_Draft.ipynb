{
 "cells": [
  {
   "cell_type": "markdown",
   "metadata": {},
   "source": [
    "# Telegrapher's Equation Modeling\n",
    "## Derivation\n",
    "When creating a transmission line model in electrical engineering, it is helpful to assume that that the cable is inmperfectly insulated, as no two conductors can be perfectly insulated due to the current flow between them. That leads to two assumptions:\n",
    "    * Capacitance (C) is relevant\n",
    "    * Current Leakage (Conductance, G) is relevant\n",
    "The wire itself will also imply some: \n",
    "    * Resistance (R)in the wire\n",
    "    * Inductance (L) in the wire\n",
    "    \n",
    "From these assertions, the wire can be modeled as follows:\n",
    "\n",
    "![Source: https://en.wikipedia.org/wiki/Telegrapher%27s_equations](https://en.wikipedia.org/wiki/Telegrapher%27s_equations#/media/File:Transmission_line_element.svg)\n",
    "\n",
    "![Source: https://en.wikipedia.org/wiki/Telegrapher%27s_equations]<img src=https://en.wikipedia.org/wiki/Telegrapher%27s_equations#/media/File:Transmission_line_element.svg>"
   ]
  },
  {
   "cell_type": "code",
   "execution_count": null,
   "metadata": {
    "collapsed": true
   },
   "outputs": [],
   "source": []
  }
 ],
 "metadata": {
  "kernelspec": {
   "display_name": "Python 3",
   "language": "python",
   "name": "python3"
  },
  "language_info": {
   "codemirror_mode": {
    "name": "ipython",
    "version": 3
   },
   "file_extension": ".py",
   "mimetype": "text/x-python",
   "name": "python",
   "nbconvert_exporter": "python",
   "pygments_lexer": "ipython3",
   "version": "3.4.3"
  }
 },
 "nbformat": 4,
 "nbformat_minor": 0
}
